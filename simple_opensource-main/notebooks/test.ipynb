{
  "nbformat": 4,
  "nbformat_minor": 0,
  "metadata": {
    "colab": {
      "provenance": []
    },
    "kernelspec": {
      "name": "python3",
      "display_name": "Python 3"
    },
    "language_info": {
      "name": "python"
    }
  },
  "cells": [
    {
      "cell_type": "code",
      "execution_count": 1,
      "metadata": {
        "colab": {
          "base_uri": "https://localhost:8080/"
        },
        "id": "OatcfiVPmzAt",
        "outputId": "539d5953-1987-4832-a155-803bae0beca9"
      },
      "outputs": [
        {
          "output_type": "stream",
          "name": "stdout",
          "text": [
            "Looking in indexes: https://pypi.org/simple, http://203.253.197.78:3141\n",
            "\u001b[33mWARNING: Retrying (Retry(total=4, connect=None, read=None, redirect=None, status=None)) after connection broken by 'ReadTimeoutError(\"HTTPConnectionPool(host='203.253.197.78', port=3141): Read timed out. (read timeout=15)\")': /toy/\u001b[0m\u001b[33m\n",
            "\u001b[0m\u001b[33mWARNING: Retrying (Retry(total=3, connect=None, read=None, redirect=None, status=None)) after connection broken by 'ReadTimeoutError(\"HTTPConnectionPool(host='203.253.197.78', port=3141): Read timed out. (read timeout=15)\")': /toy/\u001b[0m\u001b[33m\n",
            "\u001b[0mCollecting toy\n",
            "  Downloading http://203.253.197.78:3141/packages/toy-1.0.0.tar.gz (5.3 kB)\n",
            "  Preparing metadata (setup.py) ... \u001b[?25l\u001b[?25hdone\n",
            "Requirement already satisfied: pandas in /usr/local/lib/python3.10/dist-packages (from toy) (2.0.3)\n",
            "Requirement already satisfied: numpy in /usr/local/lib/python3.10/dist-packages (from toy) (1.25.2)\n",
            "Requirement already satisfied: python-dateutil>=2.8.2 in /usr/local/lib/python3.10/dist-packages (from pandas->toy) (2.8.2)\n",
            "Requirement already satisfied: pytz>=2020.1 in /usr/local/lib/python3.10/dist-packages (from pandas->toy) (2023.4)\n",
            "Requirement already satisfied: tzdata>=2022.1 in /usr/local/lib/python3.10/dist-packages (from pandas->toy) (2024.1)\n",
            "Requirement already satisfied: six>=1.5 in /usr/local/lib/python3.10/dist-packages (from python-dateutil>=2.8.2->pandas->toy) (1.16.0)\n",
            "Building wheels for collected packages: toy\n",
            "  Building wheel for toy (setup.py) ... \u001b[?25l\u001b[?25hdone\n",
            "  Created wheel for toy: filename=toy-1.0.0-py3-none-any.whl size=5475 sha256=2859b8b1d66308dcc6a01009d13c9b232fda31ed10792906986e20c6d46b334d\n",
            "  Stored in directory: /root/.cache/pip/wheels/a5/07/c6/05e5ac33f72e5fd2a2edd33fa7f4c6046ab9b36b8825eefcba\n",
            "Successfully built toy\n",
            "Installing collected packages: toy\n",
            "Successfully installed toy-1.0.0\n"
          ]
        }
      ],
      "source": [
        "!pip3 install --extra-index-url http://203.253.197.78:3141 --trusted-host 203.253.197.78 toy"
      ]
    },
    {
      "cell_type": "code",
      "source": [
        "from toy import myadd"
      ],
      "metadata": {
        "id": "l96lSPcznFMP"
      },
      "execution_count": 2,
      "outputs": []
    },
    {
      "cell_type": "code",
      "source": [
        "myadd(1,2)"
      ],
      "metadata": {
        "colab": {
          "base_uri": "https://localhost:8080/"
        },
        "id": "JGjKwGHGnOSY",
        "outputId": "333711cd-7f58-4655-bf17-c26b56e6d19f"
      },
      "execution_count": 3,
      "outputs": [
        {
          "output_type": "execute_result",
          "data": {
            "text/plain": [
              "3"
            ]
          },
          "metadata": {},
          "execution_count": 3
        }
      ]
    },
    {
      "cell_type": "code",
      "source": [
        "import pandas"
      ],
      "metadata": {
        "id": "2WnN3QY3nPXP"
      },
      "execution_count": null,
      "outputs": []
    },
    {
      "cell_type": "code",
      "source": [],
      "metadata": {
        "id": "NNotnshZoEFj"
      },
      "execution_count": null,
      "outputs": []
    }
  ]
}