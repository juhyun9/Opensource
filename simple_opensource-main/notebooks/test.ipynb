{
  "cells": [
    {
      "cell_type": "code",
      "execution_count": 1,
      "metadata": {
        "colab": {
          "base_uri": "https://localhost:8080/"
        },
        "id": "OatcfiVPmzAt",
        "outputId": "539d5953-1987-4832-a155-803bae0beca9"
      },
      "outputs": [
        {
          "name": "stdout",
          "output_type": "stream",
          "text": [
            "Looking in indexes: https://pypi.org/simple, http://203.253.197.78:3141\n",
            "\u001b[33mWARNING: Retrying (Retry(total=4, connect=None, read=None, redirect=None, status=None)) after connection broken by 'ReadTimeoutError(\"HTTPConnectionPool(host='203.253.197.78', port=3141): Read timed out. (read timeout=15)\")': /toy/\u001b[0m\u001b[33m\n",
            "\u001b[0m\u001b[33mWARNING: Retrying (Retry(total=3, connect=None, read=None, redirect=None, status=None)) after connection broken by 'ReadTimeoutError(\"HTTPConnectionPool(host='203.253.197.78', port=3141): Read timed out. (read timeout=15)\")': /toy/\u001b[0m\u001b[33m\n",
            "\u001b[0mCollecting toy\n",
            "  Downloading http://203.253.197.78:3141/packages/toy-1.0.0.tar.gz (5.3 kB)\n",
            "  Preparing metadata (setup.py) ... \u001b[?25l\u001b[?25hdone\n",
            "Requirement already satisfied: pandas in /usr/local/lib/python3.10/dist-packages (from toy) (2.0.3)\n",
            "Requirement already satisfied: numpy in /usr/local/lib/python3.10/dist-packages (from toy) (1.25.2)\n",
            "Requirement already satisfied: python-dateutil>=2.8.2 in /usr/local/lib/python3.10/dist-packages (from pandas->toy) (2.8.2)\n",
            "Requirement already satisfied: pytz>=2020.1 in /usr/local/lib/python3.10/dist-packages (from pandas->toy) (2023.4)\n",
            "Requirement already satisfied: tzdata>=2022.1 in /usr/local/lib/python3.10/dist-packages (from pandas->toy) (2024.1)\n",
            "Requirement already satisfied: six>=1.5 in /usr/local/lib/python3.10/dist-packages (from python-dateutil>=2.8.2->pandas->toy) (1.16.0)\n",
            "Building wheels for collected packages: toy\n",
            "  Building wheel for toy (setup.py) ... \u001b[?25l\u001b[?25hdone\n",
            "  Created wheel for toy: filename=toy-1.0.0-py3-none-any.whl size=5475 sha256=2859b8b1d66308dcc6a01009d13c9b232fda31ed10792906986e20c6d46b334d\n",
            "  Stored in directory: /root/.cache/pip/wheels/a5/07/c6/05e5ac33f72e5fd2a2edd33fa7f4c6046ab9b36b8825eefcba\n",
            "Successfully built toy\n",
            "Installing collected packages: toy\n",
            "Successfully installed toy-1.0.0\n"
          ]
        }
      ],
      "source": [
        "!pip3 install --extra-index-url http://203.253.197.78:3141 --trusted-host 203.253.197.78 feeling"
      ]
    },
    {
      "cell_type": "code",
      "execution_count": 2,
      "metadata": {
        "id": "l96lSPcznFMP"
      },
      "outputs": [],
      "source": [
        "from toy import myadd"
      ]
    },
    {
      "cell_type": "markdown",
      "metadata": {},
      "source": [
        "입력: 문장 리스트 (**영어** important.. In English plz..)\n",
        "출력: \n",
        "    Text: I love this product! It's amazing.\n",
        "    Polarity: 0.6125, Subjectivity: 0.75\n",
        "    Sentiment:  Positive\n",
        "\n",
        "입력 example\n",
        "    # 감정 분석을 수행할 텍스트"
      ]
    },
    {
      "cell_type": "code",
      "execution_count": 3,
      "metadata": {
        "colab": {
          "base_uri": "https://localhost:8080/"
        },
        "id": "JGjKwGHGnOSY",
        "outputId": "333711cd-7f58-4655-bf17-c26b56e6d19f"
      },
      "outputs": [
        {
          "data": {
            "text/plain": [
              "3"
            ]
          },
          "execution_count": 3,
          "metadata": {},
          "output_type": "execute_result"
        }
      ],
      "source": [
        "texts = [\n",
        "    \"I love this product! It's amazing.\",\n",
        "    \"This is the worst experience I've ever had.\",\n",
        "    \"I'm not sure how I feel about this.\",\n",
        "    \"The service was okay, but could be improved.\",\n",
        "    \"Absolutely fantastic! I will buy it again.\"\n",
        "]"
      ]
    },
    {
      "cell_type": "code",
      "execution_count": null,
      "metadata": {
        "id": "2WnN3QY3nPXP"
      },
      "outputs": [],
      "source": [
        "myadd(texts)"
      ]
    }
  ],
  "metadata": {
    "colab": {
      "provenance": []
    },
    "kernelspec": {
      "display_name": "Python 3",
      "name": "python3"
    },
    "language_info": {
      "name": "python"
    }
  },
  "nbformat": 4,
  "nbformat_minor": 0
}
